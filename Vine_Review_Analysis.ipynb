{
  "nbformat": 4,
  "nbformat_minor": 0,
  "metadata": {
    "colab": {
      "name": "Vine_Review_Analysis.ipynb",
      "provenance": [],
      "authorship_tag": "ABX9TyOivUBtxE9ET2D0UBkHCNqe",
      "include_colab_link": true
    },
    "kernelspec": {
      "name": "python3",
      "display_name": "Python 3"
    },
    "language_info": {
      "name": "python"
    }
  },
  "cells": [
    {
      "cell_type": "markdown",
      "metadata": {
        "id": "view-in-github",
        "colab_type": "text"
      },
      "source": [
        "<a href=\"https://colab.research.google.com/github/diianaesc/Amazon_Vine_Analysis/blob/main/Vine_Review_Analysis.ipynb\" target=\"_parent\"><img src=\"https://colab.research.google.com/assets/colab-badge.svg\" alt=\"Open In Colab\"/></a>"
      ]
    },
    {
      "cell_type": "code",
      "execution_count": null,
      "metadata": {
        "colab": {
          "base_uri": "https://localhost:8080/"
        },
        "id": "3J0r42RrXL9z",
        "outputId": "b2c460ef-d324-4944-96a3-c1e022c1fdb0"
      },
      "outputs": [
        {
          "output_type": "stream",
          "name": "stdout",
          "text": [
            "\r0% [Working]\r            \rIgn:1 https://developer.download.nvidia.com/compute/machine-learning/repos/ubuntu1804/x86_64  InRelease\n",
            "\r0% [Connecting to archive.ubuntu.com (91.189.91.39)] [Connecting to security.ub\r                                                                               \rGet:2 https://developer.download.nvidia.com/compute/cuda/repos/ubuntu1804/x86_64  InRelease [1,581 B]\n",
            "\r0% [Connecting to archive.ubuntu.com (91.189.91.39)] [Connecting to security.ub\r0% [Connecting to archive.ubuntu.com (91.189.91.39)] [Connecting to security.ub\r0% [2 InRelease gpgv 1,581 B] [Connecting to archive.ubuntu.com (91.189.91.39)]\r                                                                               \rHit:3 https://developer.download.nvidia.com/compute/machine-learning/repos/ubuntu1804/x86_64  Release\n",
            "Get:4 https://cloud.r-project.org/bin/linux/ubuntu bionic-cran40/ InRelease [3,626 B]\n",
            "Hit:5 http://archive.ubuntu.com/ubuntu bionic InRelease\n",
            "Get:6 http://security.ubuntu.com/ubuntu bionic-security InRelease [88.7 kB]\n",
            "Get:7 http://archive.ubuntu.com/ubuntu bionic-updates InRelease [88.7 kB]\n",
            "Get:8 https://developer.download.nvidia.com/compute/cuda/repos/ubuntu1804/x86_64  Packages [910 kB]\n",
            "Get:9 http://ppa.launchpad.net/c2d4u.team/c2d4u4.0+/ubuntu bionic InRelease [15.9 kB]\n",
            "Get:10 http://archive.ubuntu.com/ubuntu bionic-backports InRelease [74.6 kB]\n",
            "Hit:11 http://ppa.launchpad.net/cran/libgit2/ubuntu bionic InRelease\n",
            "Hit:13 http://ppa.launchpad.net/deadsnakes/ppa/ubuntu bionic InRelease\n",
            "Hit:14 http://ppa.launchpad.net/graphics-drivers/ppa/ubuntu bionic InRelease\n",
            "Get:15 http://archive.ubuntu.com/ubuntu bionic-updates/main amd64 Packages [3,369 kB]\n",
            "Get:16 http://archive.ubuntu.com/ubuntu bionic-updates/universe amd64 Packages [2,311 kB]\n",
            "Get:17 http://ppa.launchpad.net/c2d4u.team/c2d4u4.0+/ubuntu bionic/main Sources [2,095 kB]\n",
            "Get:18 http://ppa.launchpad.net/c2d4u.team/c2d4u4.0+/ubuntu bionic/main amd64 Packages [1,073 kB]\n",
            "Get:19 http://security.ubuntu.com/ubuntu bionic-security/main amd64 Packages [2,937 kB]\n",
            "Get:20 http://security.ubuntu.com/ubuntu bionic-security/universe amd64 Packages [1,533 kB]\n",
            "Fetched 14.5 MB in 6s (2,418 kB/s)\n",
            "Reading package lists... Done\n"
          ]
        }
      ],
      "source": [
        "import os\n",
        "# Find the latest version of spark 3.0 from http://www.apache.org/dist/spark/ and enter as the spark version\n",
        "# For example:\n",
        "# spark_version = 'spark-3.0.3'\n",
        "spark_version = 'spark-3.3.0'\n",
        "os.environ['SPARK_VERSION']=spark_version \n",
        "\n",
        "# Install Spark and Java\n",
        "!apt-get update\n",
        "!apt-get install openjdk-11-jdk-headless -qq > /dev/null\n",
        "!wget -q http://www.apache.org/dist/spark/$SPARK_VERSION/$SPARK_VERSION-bin-hadoop3.tgz\n",
        "!tar xf $SPARK_VERSION-bin-hadoop3.tgz\n",
        "!pip install -q findspark\n",
        "\n",
        "# Set Environment Variables\n",
        "import os\n",
        "os.environ[\"JAVA_HOME\"] = \"/usr/lib/jvm/java-11-openjdk-amd64\"\n",
        "os.environ[\"SPARK_HOME\"] = f\"/content/{spark_version}-bin-hadoop3\"\n",
        "\n",
        "# Start a SparkSession\n",
        "import findspark\n",
        "findspark.init()"
      ]
    },
    {
      "cell_type": "code",
      "source": [
        "# Download the Postgres driver that will allow Spark to interact with Postgres.\n",
        "!wget https://jdbc.postgresql.org/download/postgresql-42.2.16.jar"
      ],
      "metadata": {
        "colab": {
          "base_uri": "https://localhost:8080/"
        },
        "id": "tRX8SbcEXUKQ",
        "outputId": "505b56f0-b408-4b0c-f5c6-24ea14c9cb02"
      },
      "execution_count": null,
      "outputs": [
        {
          "output_type": "stream",
          "name": "stdout",
          "text": [
            "--2022-08-22 02:24:42--  https://jdbc.postgresql.org/download/postgresql-42.2.16.jar\n",
            "Resolving jdbc.postgresql.org (jdbc.postgresql.org)... 72.32.157.228, 2001:4800:3e1:1::228\n",
            "Connecting to jdbc.postgresql.org (jdbc.postgresql.org)|72.32.157.228|:443... connected.\n",
            "HTTP request sent, awaiting response... 200 OK\n",
            "Length: 1002883 (979K) [application/java-archive]\n",
            "Saving to: ‘postgresql-42.2.16.jar’\n",
            "\n",
            "postgresql-42.2.16. 100%[===================>] 979.38K  5.93MB/s    in 0.2s    \n",
            "\n",
            "2022-08-22 02:24:42 (5.93 MB/s) - ‘postgresql-42.2.16.jar’ saved [1002883/1002883]\n",
            "\n"
          ]
        }
      ]
    },
    {
      "cell_type": "code",
      "source": [
        "from pyspark.sql import SparkSession\n",
        "spark = SparkSession.builder.appName(\"M16-Amazon-Vine-Challenge\").config(\"spark.driver.extraClassPath\",\"/content/postgresql-42.2.16.jar\").getOrCreate()"
      ],
      "metadata": {
        "id": "Lj6h5u_DXUM5"
      },
      "execution_count": null,
      "outputs": []
    },
    {
      "cell_type": "code",
      "source": [
        "# Read in the Review dataset as a DataFrame\n",
        "from pyspark import SparkFiles\n",
        "url = \"https://s3.amazonaws.com/amazon-reviews-pds/tsv/amazon_reviews_us_Books_v1_02.tsv.gz\"\n",
        "spark.sparkContext.addFile(url)\n",
        "books_df = spark.read.csv(SparkFiles.get(\"amazon_reviews_us_Books_v1_02.tsv.gz\"), sep=\"\\t\", header=True, inferSchema=True)\n",
        "books_df.show()"
      ],
      "metadata": {
        "colab": {
          "base_uri": "https://localhost:8080/"
        },
        "id": "ImJk8rMcXUPb",
        "outputId": "bab9cf60-0982-4a5b-d3b5-9373289618df"
      },
      "execution_count": null,
      "outputs": [
        {
          "output_type": "stream",
          "name": "stdout",
          "text": [
            "+-----------+-----------+--------------+----------+--------------+--------------------+----------------+-----------+-------------+-----------+----+-----------------+--------------------+--------------------+-------------------+\n",
            "|marketplace|customer_id|     review_id|product_id|product_parent|       product_title|product_category|star_rating|helpful_votes|total_votes|vine|verified_purchase|     review_headline|         review_body|        review_date|\n",
            "+-----------+-----------+--------------+----------+--------------+--------------------+----------------+-----------+-------------+-----------+----+-----------------+--------------------+--------------------+-------------------+\n",
            "|         US|   12076615| RQ58W7SMO911M|0385730586|     122662979|Sisterhood of the...|           Books|          4|            2|          3|   N|                N|this book was a g...|this boook was a ...|2005-10-14 00:00:00|\n",
            "|         US|   12703090|  RF6IUKMGL8SF|0811828964|      56191234|The Bad Girl's Gu...|           Books|          3|            5|          5|   N|                N|           Fun Fluff|If you are lookin...|2005-10-14 00:00:00|\n",
            "|         US|   12257412|R1DOSHH6AI622S|1844161560|     253182049|Eisenhorn (A Warh...|           Books|          4|            1|         22|   N|                N| this isn't a review|never read it-a y...|2005-10-14 00:00:00|\n",
            "|         US|   50732546| RATOTLA3OF70O|0373836635|     348672532|Colby Conspiracy ...|           Books|          5|            2|          2|   N|                N|fine author on he...|Though she is hon...|2005-10-14 00:00:00|\n",
            "|         US|   51964897|R1TNWRKIVHVYOV|0262181533|     598678717|The Psychology of...|           Books|          4|            0|          2|   N|                N|Execellent cursor...|Review based on a...|2005-10-14 00:00:00|\n",
            "|         US|   31048862|R2F53LI9KK9MOY|0316769487|     862964341|The Catcher in th...|           Books|          4|            2|          2|   N|                N|   Interesting, fun.|My only complaint...|2005-10-14 00:00:00|\n",
            "|         US|   53000124|R1KJ6MB7MRSQFF|0805076069|     145341889|Bait and Switch: ...|           Books|          4|            9|         11|   N|                N|I viewed this the...|This book is chil...|2005-10-14 00:00:00|\n",
            "|         US|   29732693|R2XIM9LT335WHE|1581603681|     640542054|Opening Combinati...|           Books|          4|            3|         10|   N|                N|No Frills - Just ...|When looking for ...|2005-10-14 00:00:00|\n",
            "|         US|   48541186|R1VE0FQQ0QTQJN|0300108834|     915891133|A Little History ...|           Books|          5|           16|         20|   N|                Y|Simple, entertain...|Never been much f...|2005-10-14 00:00:00|\n",
            "|         US|   15280864|R1VKEE2NWSWDRU|0446531081|     880645124|Hour Game (King &...|           Books|          4|            0|          0|   N|                N|        A good read!|If you enjoy a we...|2005-10-14 00:00:00|\n",
            "|         US|   24209213|R2UP6XSVYJBJ2H|0976822105|     731931430|     Faith is a Verb|           Books|          5|            0|          0|   N|                N|Made me Question ...|I thoroughly enjo...|2005-10-14 00:00:00|\n",
            "|         US|   52253037|R21SYDQ70ILUC0|1580085695|     586052746|Furry Logic: A Gu...|           Books|          5|            1|          1|   N|                Y|    The Perfect Gift|If you are stumpe...|2005-10-14 00:00:00|\n",
            "|         US|   27925116| R7M06Z88PD7SX|0029148510|      72387289|Acts of War: Beha...|           Books|          4|           14|         14|   N|                N|Solid Book About ...|Whether intention...|2005-10-14 00:00:00|\n",
            "|         US|   15005044| RRS38KZ4WB5O2|1592285570|     702385650|Temple to the Win...|           Books|          5|            1|          1|   N|                N|A riveting accoun...|Temple to the win...|2005-10-14 00:00:00|\n",
            "|         US|   52534781|R2YDYRSLGNHPHR|0811848833|     102333549|The Star Wars Pos...|           Books|          4|           16|         19|   N|                Y|Comprehensive vis...|At last... a comp...|2005-10-14 00:00:00|\n",
            "|         US|   26217071|R1BMPM18O6VZOR|0782144276|     971452783|Photoshop for Nat...|           Books|          4|           13|         14|   N|                N|          Great Book|I find \\\\\"Photosh...|2005-10-14 00:00:00|\n",
            "|         US|   37684582|R1AABFZH0J0C0C|0375757996|     760991156|The Basic Works o...|           Books|          3|           17|         35|   N|                N|Problems with thi...|I love Aristotle ...|2005-10-14 00:00:00|\n",
            "|         US|   45232107|R3SJYLG07EHNE9|013146308X|     332774292|The Pterosaurs: F...|           Books|          2|           16|         34|   N|                N|Warmed over lefto...|To his discredit,...|2005-10-14 00:00:00|\n",
            "|         US|   15437121|R2TIO43ND87XVO|0375701907|     635714194|Straight Man: A N...|           Books|          5|            1|          1|   N|                N|       Funniest Book|Hands down, the f...|2005-10-14 00:00:00|\n",
            "|         US|   52157117|R18TY4WD19OUAO|141378240X|     656010659|   Lipstick's Legacy|           Books|          5|            1|          1|   N|                N|          Great Work|I read this book ...|2005-10-14 00:00:00|\n",
            "+-----------+-----------+--------------+----------+--------------+--------------------+----------------+-----------+-------------+-----------+----+-----------------+--------------------+--------------------+-------------------+\n",
            "only showing top 20 rows\n",
            "\n"
          ]
        }
      ]
    },
    {
      "cell_type": "code",
      "source": [
        "# Drop null values\n",
        "dropna_df = books_df.dropna()\n",
        "dropna_df.show(10)"
      ],
      "metadata": {
        "colab": {
          "base_uri": "https://localhost:8080/"
        },
        "id": "qkyzVErIXelU",
        "outputId": "55d3e9eb-187a-4bf0-edc5-afe5309b847b"
      },
      "execution_count": null,
      "outputs": [
        {
          "output_type": "stream",
          "name": "stdout",
          "text": [
            "+-----------+-----------+--------------+----------+--------------+--------------------+----------------+-----------+-------------+-----------+----+-----------------+--------------------+--------------------+-------------------+\n",
            "|marketplace|customer_id|     review_id|product_id|product_parent|       product_title|product_category|star_rating|helpful_votes|total_votes|vine|verified_purchase|     review_headline|         review_body|        review_date|\n",
            "+-----------+-----------+--------------+----------+--------------+--------------------+----------------+-----------+-------------+-----------+----+-----------------+--------------------+--------------------+-------------------+\n",
            "|         US|   12076615| RQ58W7SMO911M|0385730586|     122662979|Sisterhood of the...|           Books|          4|            2|          3|   N|                N|this book was a g...|this boook was a ...|2005-10-14 00:00:00|\n",
            "|         US|   12703090|  RF6IUKMGL8SF|0811828964|      56191234|The Bad Girl's Gu...|           Books|          3|            5|          5|   N|                N|           Fun Fluff|If you are lookin...|2005-10-14 00:00:00|\n",
            "|         US|   12257412|R1DOSHH6AI622S|1844161560|     253182049|Eisenhorn (A Warh...|           Books|          4|            1|         22|   N|                N| this isn't a review|never read it-a y...|2005-10-14 00:00:00|\n",
            "|         US|   50732546| RATOTLA3OF70O|0373836635|     348672532|Colby Conspiracy ...|           Books|          5|            2|          2|   N|                N|fine author on he...|Though she is hon...|2005-10-14 00:00:00|\n",
            "|         US|   51964897|R1TNWRKIVHVYOV|0262181533|     598678717|The Psychology of...|           Books|          4|            0|          2|   N|                N|Execellent cursor...|Review based on a...|2005-10-14 00:00:00|\n",
            "|         US|   31048862|R2F53LI9KK9MOY|0316769487|     862964341|The Catcher in th...|           Books|          4|            2|          2|   N|                N|   Interesting, fun.|My only complaint...|2005-10-14 00:00:00|\n",
            "|         US|   53000124|R1KJ6MB7MRSQFF|0805076069|     145341889|Bait and Switch: ...|           Books|          4|            9|         11|   N|                N|I viewed this the...|This book is chil...|2005-10-14 00:00:00|\n",
            "|         US|   29732693|R2XIM9LT335WHE|1581603681|     640542054|Opening Combinati...|           Books|          4|            3|         10|   N|                N|No Frills - Just ...|When looking for ...|2005-10-14 00:00:00|\n",
            "|         US|   48541186|R1VE0FQQ0QTQJN|0300108834|     915891133|A Little History ...|           Books|          5|           16|         20|   N|                Y|Simple, entertain...|Never been much f...|2005-10-14 00:00:00|\n",
            "|         US|   15280864|R1VKEE2NWSWDRU|0446531081|     880645124|Hour Game (King &...|           Books|          4|            0|          0|   N|                N|        A good read!|If you enjoy a we...|2005-10-14 00:00:00|\n",
            "+-----------+-----------+--------------+----------+--------------+--------------------+----------------+-----------+-------------+-----------+----+-----------------+--------------------+--------------------+-------------------+\n",
            "only showing top 10 rows\n",
            "\n"
          ]
        }
      ]
    },
    {
      "cell_type": "code",
      "source": [
        "# Load in a sql function to use columns\n",
        "from pyspark.sql.functions import col"
      ],
      "metadata": {
        "id": "T9EWQ60vXent"
      },
      "execution_count": null,
      "outputs": []
    },
    {
      "cell_type": "code",
      "source": [
        "# Drop duplicates\n",
        "clean_df = dropna_df.drop_duplicates()\n",
        "clean_df.show(10)"
      ],
      "metadata": {
        "colab": {
          "base_uri": "https://localhost:8080/"
        },
        "id": "tc4XhHYwXUR2",
        "outputId": "ecf09a71-4f98-44f3-b277-dedec90efc36"
      },
      "execution_count": null,
      "outputs": [
        {
          "output_type": "stream",
          "name": "stdout",
          "text": [
            "+-----------+-----------+--------------+----------+--------------+--------------------+----------------+-----------+-------------+-----------+----+-----------------+--------------------+--------------------+-------------------+\n",
            "|marketplace|customer_id|     review_id|product_id|product_parent|       product_title|product_category|star_rating|helpful_votes|total_votes|vine|verified_purchase|     review_headline|         review_body|        review_date|\n",
            "+-----------+-----------+--------------+----------+--------------+--------------------+----------------+-----------+-------------+-----------+----+-----------------+--------------------+--------------------+-------------------+\n",
            "|         US|   53055712| R1002FAEXYJTB|0061002860|     121809515|The Murder of Rog...|           Books|          4|            0|          0|   N|                N|   Suspect everyone!|I am so glad our ...|1998-11-07 00:00:00|\n",
            "|         US|   52453598|R100G0ZBG3OND5|0380781484|     592019319|             Captive|           Books|          5|            4|          6|   N|                N|Captive Was Capti...|ONE OF THE BEST S...|1998-11-23 00:00:00|\n",
            "|         US|   28617069|R100I4QUZNIIR6|0415227186|     667254241|Schizophrenia: A ...|           Books|          5|            9|         15|   N|                N|uncovering the un...|this is an excell...|2003-07-21 00:00:00|\n",
            "|         US|   49377164|R101J95JQTCU0G|1560252278|     202792810|The Outlaw Bible ...|           Books|          5|            4|          6|   N|                N|A Shot in the Arm...|The Outlaw Bible ...|2000-10-12 00:00:00|\n",
            "|         US|   35866380|R101JCRAXEZ2XN|080505314X|     501797008|What Every Credit...|           Books|          2|            0|          7|   N|                N|              &quot;|&quot; This book ...|2002-11-23 00:00:00|\n",
            "|         US|   32740682|R101LMD5SARW1G|0399142789|     916454618|Conversations wit...|           Books|          5|            3|          4|   N|                N|I'm so glad I rea...|This is probably ...|2004-01-10 00:00:00|\n",
            "|         US|   52978849|R102B6ZV3IX49B|0809073978|     849110166|Ungentlemanly Act...|           Books|          4|           10|         15|   N|                Y|    Mostly excellent|A well-written st...|2000-03-03 00:00:00|\n",
            "|         US|   44722507|R102HJVFYRC897|0449912353|     803550802|Turning Stones: M...|           Books|          5|            0|          0|   N|                N|  It's An Eye Opener|This book was a v...|2001-03-20 00:00:00|\n",
            "|         US|   46388621|R102IB6OP9TWGG|0761119124|     490853263|365 Great Wines P...|           Books|          5|            1|          1|   N|                N|I recommend some ...|I got my first Gr...|2001-04-26 00:00:00|\n",
            "|         US|   52608558|R102LF0BEMGIW2|0201357526|     484722565|Foundations of Mu...|           Books|          5|           31|         32|   N|                N|an excellent intr...|The book provides...|2000-04-13 00:00:00|\n",
            "+-----------+-----------+--------------+----------+--------------+--------------------+----------------+-----------+-------------+-----------+----+-----------------+--------------------+--------------------+-------------------+\n",
            "only showing top 10 rows\n",
            "\n"
          ]
        }
      ]
    },
    {
      "cell_type": "code",
      "source": [
        "from pyspark.sql.functions import to_date"
      ],
      "metadata": {
        "id": "lEGnCNEwXUUS"
      },
      "execution_count": null,
      "outputs": []
    },
    {
      "cell_type": "code",
      "source": [
        "# Create the vine_table. DataFrame\n",
        "vine_df = clean_df.select([\"review_id\", \"star_rating\", \"helpful_votes\", \"total_votes\", \"vine\", \"verified_purchase\"])\n",
        "vine_df.show(10)"
      ],
      "metadata": {
        "colab": {
          "base_uri": "https://localhost:8080/"
        },
        "id": "4LImjYFsXodA",
        "outputId": "70beb454-6f77-4284-9f10-107fc6aefc64"
      },
      "execution_count": null,
      "outputs": [
        {
          "output_type": "stream",
          "name": "stdout",
          "text": [
            "+--------------+-----------+-------------+-----------+----+-----------------+\n",
            "|     review_id|star_rating|helpful_votes|total_votes|vine|verified_purchase|\n",
            "+--------------+-----------+-------------+-----------+----+-----------------+\n",
            "| R1002FAEXYJTB|          4|            0|          0|   N|                N|\n",
            "|R100G0ZBG3OND5|          5|            4|          6|   N|                N|\n",
            "|R100I4QUZNIIR6|          5|            9|         15|   N|                N|\n",
            "|R101J95JQTCU0G|          5|            4|          6|   N|                N|\n",
            "|R101JCRAXEZ2XN|          2|            0|          7|   N|                N|\n",
            "|R101LMD5SARW1G|          5|            3|          4|   N|                N|\n",
            "|R102B6ZV3IX49B|          4|           10|         15|   N|                Y|\n",
            "|R102HJVFYRC897|          5|            0|          0|   N|                N|\n",
            "|R102IB6OP9TWGG|          5|            1|          1|   N|                N|\n",
            "|R102LF0BEMGIW2|          5|           31|         32|   N|                N|\n",
            "+--------------+-----------+-------------+-----------+----+-----------------+\n",
            "only showing top 10 rows\n",
            "\n"
          ]
        }
      ]
    },
    {
      "cell_type": "markdown",
      "source": [
        "Deliverable 2: Determine Bias of Vine Reviews"
      ],
      "metadata": {
        "id": "boMukEo1XxnJ"
      }
    },
    {
      "cell_type": "code",
      "source": [
        "# Filter the Vine DataFrame by those that had 20+ total votes\n",
        "df2 = vine_df.filter(vine_df[\"total_votes\"] >= 20)\n",
        "df2.show(5)"
      ],
      "metadata": {
        "colab": {
          "base_uri": "https://localhost:8080/"
        },
        "id": "9x3wL-KoXofj",
        "outputId": "c3ccd5f5-171e-408e-8a90-463f8ec569ad"
      },
      "execution_count": null,
      "outputs": [
        {
          "output_type": "stream",
          "name": "stdout",
          "text": [
            "+--------------+-----------+-------------+-----------+----+-----------------+\n",
            "|     review_id|star_rating|helpful_votes|total_votes|vine|verified_purchase|\n",
            "+--------------+-----------+-------------+-----------+----+-----------------+\n",
            "|R102LF0BEMGIW2|          5|           31|         32|   N|                N|\n",
            "|R104G2EZ1941MK|          4|           22|         24|   N|                N|\n",
            "|R104M8GQWNMKXX|          5|           29|         32|   N|                Y|\n",
            "|R1053OFVTG77Y8|          5|           20|         21|   N|                N|\n",
            "|R1083NX8PQZTYM|          4|           19|         21|   N|                N|\n",
            "+--------------+-----------+-------------+-----------+----+-----------------+\n",
            "only showing top 5 rows\n",
            "\n"
          ]
        }
      ]
    },
    {
      "cell_type": "code",
      "source": [
        "# Filter the new DataFrame to retrieve all the rows where the number of helpful_votes divided by total_votes is equal to or greater than 50%\n",
        "df3 = df2.filter(df2[\"helpful_votes\"]/df2[\"total_votes\"] >= 0.5)\n",
        "df3.show(5)"
      ],
      "metadata": {
        "colab": {
          "base_uri": "https://localhost:8080/"
        },
        "id": "vSOyzXLCXoiM",
        "outputId": "0883deff-5ad3-4ece-8374-1aab4b453e8a"
      },
      "execution_count": null,
      "outputs": [
        {
          "output_type": "stream",
          "name": "stdout",
          "text": [
            "+--------------+-----------+-------------+-----------+----+-----------------+\n",
            "|     review_id|star_rating|helpful_votes|total_votes|vine|verified_purchase|\n",
            "+--------------+-----------+-------------+-----------+----+-----------------+\n",
            "|R102LF0BEMGIW2|          5|           31|         32|   N|                N|\n",
            "|R104G2EZ1941MK|          4|           22|         24|   N|                N|\n",
            "|R104M8GQWNMKXX|          5|           29|         32|   N|                Y|\n",
            "|R1053OFVTG77Y8|          5|           20|         21|   N|                N|\n",
            "|R1083NX8PQZTYM|          4|           19|         21|   N|                N|\n",
            "+--------------+-----------+-------------+-----------+----+-----------------+\n",
            "only showing top 5 rows\n",
            "\n"
          ]
        }
      ]
    },
    {
      "cell_type": "code",
      "source": [
        "df3.describe().show()"
      ],
      "metadata": {
        "colab": {
          "base_uri": "https://localhost:8080/"
        },
        "id": "RHvciRLldDnx",
        "outputId": "a5c4349c-dfec-47cd-d6b0-d2a5e1b15675"
      },
      "execution_count": null,
      "outputs": [
        {
          "output_type": "stream",
          "name": "stdout",
          "text": [
            "+-------+--------------+------------------+------------------+-----------------+------+-----------------+\n",
            "|summary|     review_id|       star_rating|     helpful_votes|      total_votes|  vine|verified_purchase|\n",
            "+-------+--------------+------------------+------------------+-----------------+------+-----------------+\n",
            "|  count|        403778|            403778|            403778|           403778|403778|           403778|\n",
            "|   mean|          null|4.0784639083853005|41.521259206791854| 47.5853340201794|  null|             null|\n",
            "| stddev|          null|1.3710364012325926|  62.7092964444989|68.00266620962232|  null|             null|\n",
            "|    min|R1001GCNUFG47T|                 1|                10|               20|     N|                N|\n",
            "|    max| RZZZOC01ZG3XG|                 5|             15835|            16352|     N|                Y|\n",
            "+-------+--------------+------------------+------------------+-----------------+------+-----------------+\n",
            "\n"
          ]
        }
      ]
    },
    {
      "cell_type": "code",
      "source": [
        "# Filter the DataFrame to retrieve all the rows where a review was written as part of the Vine program, vine == 'Y'\n",
        "vine_yes_df = df3.filter(df3[\"vine\"] == \"Y\")\n",
        "vine_yes_df.show(20)"
      ],
      "metadata": {
        "colab": {
          "base_uri": "https://localhost:8080/"
        },
        "id": "IA0QNJaXX30k",
        "outputId": "21182481-0ff5-4187-e8e0-65b4ac7b1e2e"
      },
      "execution_count": null,
      "outputs": [
        {
          "output_type": "stream",
          "name": "stdout",
          "text": [
            "+---------+-----------+-------------+-----------+----+-----------------+\n",
            "|review_id|star_rating|helpful_votes|total_votes|vine|verified_purchase|\n",
            "+---------+-----------+-------------+-----------+----+-----------------+\n",
            "+---------+-----------+-------------+-----------+----+-----------------+\n",
            "\n"
          ]
        }
      ]
    },
    {
      "cell_type": "code",
      "source": [
        "# Filter the Vine DataFrame by those that *do not* have a vine review\n",
        "vine_no_df = df3.filter(df3[\"vine\"] == \"N\")\n",
        "vine_no_df.show(5)"
      ],
      "metadata": {
        "colab": {
          "base_uri": "https://localhost:8080/"
        },
        "id": "GYKIp5nDX38b",
        "outputId": "c5c4145d-84b8-4ef4-aaaf-bb1f7deaa88c"
      },
      "execution_count": null,
      "outputs": [
        {
          "output_type": "stream",
          "name": "stdout",
          "text": [
            "+--------------+-----------+-------------+-----------+----+-----------------+\n",
            "|     review_id|star_rating|helpful_votes|total_votes|vine|verified_purchase|\n",
            "+--------------+-----------+-------------+-----------+----+-----------------+\n",
            "|R102LF0BEMGIW2|          5|           31|         32|   N|                N|\n",
            "|R104G2EZ1941MK|          4|           22|         24|   N|                N|\n",
            "|R104M8GQWNMKXX|          5|           29|         32|   N|                Y|\n",
            "|R1053OFVTG77Y8|          5|           20|         21|   N|                N|\n",
            "|R1083NX8PQZTYM|          4|           19|         21|   N|                N|\n",
            "+--------------+-----------+-------------+-----------+----+-----------------+\n",
            "only showing top 5 rows\n",
            "\n"
          ]
        }
      ]
    },
    {
      "cell_type": "code",
      "source": [
        "from pyspark.sql.functions import col, avg"
      ],
      "metadata": {
        "id": "GfzybUhQX3_W"
      },
      "execution_count": null,
      "outputs": []
    },
    {
      "cell_type": "code",
      "source": [
        "# Get summary statistics of those that had vine reviews\n",
        "vine_yes_df.describe().show()"
      ],
      "metadata": {
        "colab": {
          "base_uri": "https://localhost:8080/"
        },
        "id": "4qn9PqbcYKU6",
        "outputId": "a505211b-8504-4219-a4d8-2df7b71d1615"
      },
      "execution_count": null,
      "outputs": [
        {
          "output_type": "stream",
          "name": "stdout",
          "text": [
            "+-------+---------+-----------+-------------+-----------+----+-----------------+\n",
            "|summary|review_id|star_rating|helpful_votes|total_votes|vine|verified_purchase|\n",
            "+-------+---------+-----------+-------------+-----------+----+-----------------+\n",
            "|  count|        0|          0|            0|          0|   0|                0|\n",
            "|   mean|     null|       null|         null|       null|null|             null|\n",
            "| stddev|     null|       null|         null|       null|null|             null|\n",
            "|    min|     null|       null|         null|       null|null|             null|\n",
            "|    max|     null|       null|         null|       null|null|             null|\n",
            "+-------+---------+-----------+-------------+-----------+----+-----------------+\n",
            "\n"
          ]
        }
      ]
    },
    {
      "cell_type": "code",
      "source": [
        "# Get summary statistics of those that did not have vine reviews\n",
        "vine_no_df.describe().show()"
      ],
      "metadata": {
        "colab": {
          "base_uri": "https://localhost:8080/"
        },
        "id": "djf2terpYKXV",
        "outputId": "bd0b3f2d-c3b2-460b-a534-71d516a0865e"
      },
      "execution_count": null,
      "outputs": [
        {
          "output_type": "stream",
          "name": "stdout",
          "text": [
            "+-------+--------------+------------------+------------------+-----------------+------+-----------------+\n",
            "|summary|     review_id|       star_rating|     helpful_votes|      total_votes|  vine|verified_purchase|\n",
            "+-------+--------------+------------------+------------------+-----------------+------+-----------------+\n",
            "|  count|        403778|            403778|            403778|           403778|403778|           403778|\n",
            "|   mean|          null|4.0784639083853005|41.521259206791854| 47.5853340201794|  null|             null|\n",
            "| stddev|          null|1.3710364012325926|  62.7092964444989|68.00266620962232|  null|             null|\n",
            "|    min|R1001GCNUFG47T|                 1|                10|               20|     N|                N|\n",
            "|    max| RZZZOC01ZG3XG|                 5|             15835|            16352|     N|                Y|\n",
            "+-------+--------------+------------------+------------------+-----------------+------+-----------------+\n",
            "\n"
          ]
        }
      ]
    },
    {
      "cell_type": "code",
      "source": [
        "# Percentage of 5-star rating that had vine reviews\n",
        "paid_five_star_number = vine_yes_df[vine_yes_df['star_rating']== 5].count()\n",
        "paid_number = vine_yes_df.count()\n",
        "percentage_five_star_vine = float(paid_five_star_number) / float(paid_number)\n",
        "\n",
        "print(paid_number)\n",
        "print(paid_five_star_number)\n",
        "print(percentage_five_star_vine)"
      ],
      "metadata": {
        "colab": {
          "base_uri": "https://localhost:8080/",
          "height": 240
        },
        "id": "4OHnUMqmYKaI",
        "outputId": "ef73a974-1772-45aa-94e7-6c091db94102"
      },
      "execution_count": null,
      "outputs": [
        {
          "output_type": "error",
          "ename": "ZeroDivisionError",
          "evalue": "ignored",
          "traceback": [
            "\u001b[0;31m---------------------------------------------------------------------------\u001b[0m",
            "\u001b[0;31mZeroDivisionError\u001b[0m                         Traceback (most recent call last)",
            "\u001b[0;32m<ipython-input-17-701814b05c7d>\u001b[0m in \u001b[0;36m<module>\u001b[0;34m\u001b[0m\n\u001b[1;32m      2\u001b[0m \u001b[0mpaid_five_star_number\u001b[0m \u001b[0;34m=\u001b[0m \u001b[0mvine_yes_df\u001b[0m\u001b[0;34m[\u001b[0m\u001b[0mvine_yes_df\u001b[0m\u001b[0;34m[\u001b[0m\u001b[0;34m'star_rating'\u001b[0m\u001b[0;34m]\u001b[0m\u001b[0;34m==\u001b[0m \u001b[0;36m5\u001b[0m\u001b[0;34m]\u001b[0m\u001b[0;34m.\u001b[0m\u001b[0mcount\u001b[0m\u001b[0;34m(\u001b[0m\u001b[0;34m)\u001b[0m\u001b[0;34m\u001b[0m\u001b[0;34m\u001b[0m\u001b[0m\n\u001b[1;32m      3\u001b[0m \u001b[0mpaid_number\u001b[0m \u001b[0;34m=\u001b[0m \u001b[0mvine_yes_df\u001b[0m\u001b[0;34m.\u001b[0m\u001b[0mcount\u001b[0m\u001b[0;34m(\u001b[0m\u001b[0;34m)\u001b[0m\u001b[0;34m\u001b[0m\u001b[0;34m\u001b[0m\u001b[0m\n\u001b[0;32m----> 4\u001b[0;31m \u001b[0mpercentage_five_star_vine\u001b[0m \u001b[0;34m=\u001b[0m \u001b[0mfloat\u001b[0m\u001b[0;34m(\u001b[0m\u001b[0mpaid_five_star_number\u001b[0m\u001b[0;34m)\u001b[0m \u001b[0;34m/\u001b[0m \u001b[0mfloat\u001b[0m\u001b[0;34m(\u001b[0m\u001b[0mpaid_number\u001b[0m\u001b[0;34m)\u001b[0m\u001b[0;34m\u001b[0m\u001b[0;34m\u001b[0m\u001b[0m\n\u001b[0m\u001b[1;32m      5\u001b[0m \u001b[0;34m\u001b[0m\u001b[0m\n\u001b[1;32m      6\u001b[0m \u001b[0mprint\u001b[0m\u001b[0;34m(\u001b[0m\u001b[0mpaid_number\u001b[0m\u001b[0;34m)\u001b[0m\u001b[0;34m\u001b[0m\u001b[0;34m\u001b[0m\u001b[0m\n",
            "\u001b[0;31mZeroDivisionError\u001b[0m: float division by zero"
          ]
        }
      ]
    },
    {
      "cell_type": "code",
      "source": [
        "# Get percentage of 5-star rating among those record that did not have vine reviews\n",
        "paid_five_star_number = vine_no_df[vine_no_df['star_rating']== 5].count()\n",
        "paid_number = vine_no_df.count()\n",
        "percentage_five_star_vine = float(paid_five_star_number) / float(paid_number)\n",
        "\n",
        "print(paid_number)\n",
        "print(paid_five_star_number)\n",
        "print(percentage_five_star_vine)"
      ],
      "metadata": {
        "colab": {
          "base_uri": "https://localhost:8080/"
        },
        "id": "swEDtMZ2YVjc",
        "outputId": "0f681135-0a49-4297-c9f1-c5789e572fc9"
      },
      "execution_count": null,
      "outputs": [
        {
          "output_type": "stream",
          "name": "stdout",
          "text": [
            "403778\n",
            "242868\n",
            "0.6014889369901283\n"
          ]
        }
      ]
    },
    {
      "cell_type": "code",
      "source": [
        ""
      ],
      "metadata": {
        "id": "KPtuFdnHYVl9"
      },
      "execution_count": null,
      "outputs": []
    },
    {
      "cell_type": "code",
      "source": [
        ""
      ],
      "metadata": {
        "id": "PXmwMtsxYVo5"
      },
      "execution_count": null,
      "outputs": []
    }
  ]
}